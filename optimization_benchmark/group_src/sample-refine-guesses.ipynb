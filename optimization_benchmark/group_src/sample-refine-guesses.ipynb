{
 "cells": [
  {
   "cell_type": "code",
   "execution_count": 1,
   "metadata": {},
   "outputs": [],
   "source": [
    "#load benchmarks problems\n",
    "\n",
    "import numpy as np\n",
    "\n",
    "eqc = np.load('eqcS.npy',allow_pickle=True).item() \n",
    "class prb:   #this will be your black box function\n",
    "    def __init__(self,prob,noisy_level):\n",
    "        # function for generating data\n",
    "        self.func=prob['func']\n",
    "        # number of constraints\n",
    "        self.n_con=prob['n_con']\n",
    "        # noise level\n",
    "        self.nl=noisy_level\n",
    "        # constraints\n",
    "        self.con=[]\n",
    "        for i in range(self.n_con):\n",
    "            self.con.append(prob['con'+str(i+1)])\n",
    "    def datcol(self,x):\n",
    "        try:\n",
    "            # eval takes string type input and evaluates python code. Input can be\n",
    "            #a mathematical function or a python function which will be called.\n",
    "            y = eval(self.func)\n",
    "        except:\n",
    "            x = np.array([x])\n",
    "            y = eval(self.func)\n",
    "        return float(y)\n",
    "    def constraint(self,x):\n",
    "        # Appears to evaluate if the constraints are satisfied\n",
    "        #returns 1 if all constraints are satisfied, else -1\n",
    "        try:     \n",
    "            m,n=np.shape(x)\n",
    "        except:\n",
    "            x = np.array([x])\n",
    "            m,n=np.shape(x)\n",
    "        y=np.empty((self.n_con))\n",
    "        for i in range(self.n_con):\n",
    "            y[i]=eval(self.con[i])     \n",
    "        if y.all() == 1.:\n",
    "            label = 1.\n",
    "        else:\n",
    "            label = -1.\n",
    "        return label\n",
    "    \n",
    "bcp=np.load('bcp8.npy',allow_pickle=True).item()\n",
    "\n",
    "class benchmark:\n",
    "    def __init__(self,func,noisy_level):\n",
    "        self.func = str(func)\n",
    "        self.nl = noisy_level\n",
    "    def datcol(self,x):\n",
    "        try:\n",
    "            y = eval(self.func)\n",
    "        except:\n",
    "            x = np.array([x])\n",
    "            y = eval(self.func)\n",
    "        return float(y)"
   ]
  },
  {
   "attachments": {},
   "cell_type": "markdown",
   "metadata": {},
   "source": [
    "# Helper functions from Lucas"
   ]
  },
  {
   "cell_type": "code",
   "execution_count": 2,
   "metadata": {},
   "outputs": [],
   "source": [
    "# Find and replace function for editing function strings\n",
    "def multiple_replace(_string:str, find_replace:list):\n",
    "    new_string = _string\n",
    "    for find,replace in find_replace:\n",
    "        new_string = new_string.replace(find,replace)\n",
    "    return new_string\n",
    "\n",
    "# Create usable form of the function to pass to optimizers\n",
    "def get_usable_fxn(dimension: int, fxn_form: str):\n",
    "    find_rep_list = [('x[:,{}]'.format(dimension-1-i),'x[\"{}\"]'.format(dimension-1-i)) for i in range(dimension)]\n",
    "    opt_form = multiple_replace(fxn_form, find_rep_list)\n",
    "    return opt_form\n",
    "\n",
    "# Create search space\n",
    "def create_search_space(dimension: int, xlb: list, xub: list, resolution: int = 100):\n",
    "    search_space = {str(i):np.linspace(xlb[i],xub[i],resolution) for i in range(dimension)}\n",
    "    return search_space\n",
    "\n",
    "# Create a container for objective function - need to use eval to evaluate string version of function, but can't pass that\n",
    "#directly to optimizer - there is probably a better way to do this, possibly using wrappers. Not worth time right now.\n",
    "def create_parent_fxn(search_space,opt_form):\n",
    "    search_space = search_space\n",
    "    opt_form = opt_form\n",
    "    def objective_fxn(search_space):\n",
    "        #clear_output(wait=True)\n",
    "        x = search_space\n",
    "        return -1*eval(opt_form)\n",
    "    return objective_fxn"
   ]
  },
  {
   "attachments": {},
   "cell_type": "markdown",
   "metadata": {},
   "source": [
    "# Additional Helper Functions"
   ]
  },
  {
   "cell_type": "code",
   "execution_count": 3,
   "metadata": {},
   "outputs": [],
   "source": [
    "def get_valid_problems(names):\n",
    "    \"\"\" \n",
    "    Some provided solutions may be invalid. This function returns valid/invalid solutions\n",
    "    \"\"\"\n",
    "\n",
    "    valid_problems = []\n",
    "    invalid_problems = []\n",
    "    for name in names: \n",
    "        dims = bcp[f'{name}']['n']\n",
    "        try:\n",
    "            assert len(bcp[f'{name}']['xub']) == dims and len(bcp[f'{name}']['xlb']) == dims\n",
    "            assert len(bcp[f'{name}']['xopt']) == dims \n",
    "            valid_problems.append(name)\n",
    "        except:\n",
    "            invalid_problems.append(name)\n",
    "            continue\n",
    "\n",
    "    print(f\"There are {len(valid_problems)} valid problems and {len(invalid_problems)} invalid problems\")\n",
    "    \n",
    "    return valid_problems, invalid_problems\n",
    "\n",
    "def get_perturbed_solutions(test_fxn):\n",
    "\n",
    "    \"\"\"\n",
    "    Returns perturbed optimal solutions for a given input problem \n",
    "    \"\"\"\n",
    "\n",
    "    dims = test_fxn['n']\n",
    "    perturbed_solutions = []\n",
    "\n",
    "    for dim in range(dims):\n",
    "        opt = test_fxn['xopt'][dim]       \n",
    "        perturbation = np.random.uniform(-5, 5) / 100\n",
    "        if opt != 0.0: perturbed_solution = np.array([opt + opt*perturbation])\n",
    "        else: perturbed_solution = np.array([perturbation])\n",
    "        perturbed_solutions.append(perturbed_solution)\n",
    "\n",
    "        #stdev = np.std(np.array([test_fxn['xub'][dim], test_fxn['xlb'][dim]]), axis=0)\n",
    "        #perturbed_solution = np.random.normal(opt, stdev*0.1, 1)\n",
    "\n",
    "    return np.concatenate(perturbed_solutions)\n",
    "\n",
    "def get_all_perturbed_solutions(names):\n",
    "\n",
    "    \"\"\"\n",
    "    Returns perturbed initial guesses for all valid problems as a list of np arrays\n",
    "    \"\"\"\n",
    "\n",
    "    valid_problems, _ = get_valid_problems(names)\n",
    "    perturbed_solutions = []\n",
    "    percent_differences = []\n",
    "\n",
    "    for problem in valid_problems:\n",
    "        test_fxn = bcp[f'{problem}']\n",
    "        dims = test_fxn['n']\n",
    "        perturbed_solution = get_perturbed_solutions(test_fxn).astype(float)\n",
    "        optimal_solution = test_fxn['xopt'].astype(float)\n",
    "        percent_diff = np.divide(abs(perturbed_solution - optimal_solution), abs(optimal_solution), \n",
    "                                out=np.zeros_like(optimal_solution), where=optimal_solution!=0) * 100.0\n",
    "        assert max(percent_diff) <= 5 # we sampled perturbations from uniform(-5,5)\n",
    "        assert len(perturbed_solution) == dims\n",
    "        perturbed_solutions.append(perturbed_solution)\n",
    "        percent_differences.append(percent_diff)\n",
    "\n",
    "    return perturbed_solutions, percent_differences\n",
    "\n",
    "\n",
    "def get_all_initial_guesses(names):\n",
    "\n",
    "    \"\"\"\n",
    "    Returns perturbed initial guesses for all valid problems as a list of dicts\n",
    "    \"\"\"\n",
    "\n",
    "    valid_problems, _ = get_valid_problems(names)\n",
    "    all_initial_guesses = []\n",
    "\n",
    "    for problem in valid_problems:\n",
    "        test_fxn = bcp[f'{problem}']\n",
    "        dims = test_fxn['n']\n",
    "        perturbed_solution = get_perturbed_solutions(test_fxn).astype(float)\n",
    "        optimal_solution = test_fxn['xopt'].astype(float)\n",
    "        percent_diff = np.divide(abs(perturbed_solution - optimal_solution), abs(optimal_solution), \n",
    "                                out=np.zeros_like(optimal_solution), where=optimal_solution!=0) * 100.0\n",
    "        assert max(percent_diff) <= 5 # we sampled perturbations from uniform(-5,5)\n",
    "        assert len(perturbed_solution) == dims\n",
    "\n",
    "        initial_guess = {str(i):perturbed_solution[i] for i in range(dims)}\n",
    "        all_initial_guesses.append(initial_guess)\n",
    "\n",
    "    return all_initial_guesses\n",
    "\n",
    "\n",
    "def get_solutions(problems, solvers, all_initial_guesses):\n",
    "\n",
    "    names = list(bcp.keys())\n",
    "    final_solns = {}\n",
    "\n",
    "    for problem in problems:\n",
    "\n",
    "        test_fxn = bcp[f'{problem}']\n",
    "        fxn_form = test_fxn['func']\n",
    "        xlb = test_fxn['xlb']\n",
    "        xub = test_fxn['xub']\n",
    "        ndim = test_fxn['n']\n",
    "\n",
    "        opt_form = get_usable_fxn(ndim, fxn_form)\n",
    "        search_space = create_search_space(ndim, xlb, xub, resolution=100)\n",
    "        fxn = create_parent_fxn(search_space,opt_form)\n",
    "\n",
    "        initial_guess = all_initial_guesses[names.index(f'{problem}')]\n",
    "        initialize={\"warm_start\":[initial_guess]}\n",
    "\n",
    "        optimum = {}\n",
    "        for f in solvers:\n",
    "            opt = f(search_space) # initialize optimizer\n",
    "            opt.search(fxn, n_iter=2500) # run optimizer\n",
    "            #opt.search_data.to_csv('./{}.txt'.format(f.__name__), sep='\\t', index=False)\n",
    "            optimum[f.__name__] = -1*opt.best_score\n",
    "\n",
    "        opts = ['Solver\\tOptimum']\n",
    "        for i in optimum.keys():\n",
    "            tmp_opt = optimum[i]\n",
    "            opts += ['{}\\t{}'.format(i,tmp_opt)]\n",
    "        with open(f'{problem}-refinement.txt', 'w') as f:\n",
    "            print('\\n'.join(opts),file=f)\n",
    "\n",
    "        final_solns[f'{problem}'] = optimum\n",
    "\n",
    "    return final_solns\n",
    "\n",
    "\n",
    "def get_solver_names(solvers):\n",
    "\n",
    "    \"\"\" \n",
    "    Function to process strings of solvers\n",
    "    \"\"\"\n",
    "\n",
    "    solver_names = []\n",
    "    for i in range(len(solvers)):\n",
    "        solver_name = str(solvers[i])\n",
    "        # All solver names are after 4th \".\" \n",
    "        idx = solver_name.find(\".\", solver_name.find(\".\", solver_name.find(\".\", solver_name.find(\".\") + 1) + 1) + 1)\n",
    "\n",
    "        # Select the substring after the 4th dot\n",
    "        solver_name = solver_name[idx+1:]\n",
    "        solver_name = solver_name.replace(\"'\", \"\")\n",
    "        solver_name = solver_name.replace(\">\", \"\")\n",
    "        solver_names.append(solver_name)\n",
    "    \n",
    "    return solver_names\n",
    "\n",
    "def get_maes(problems, solver_names, solver_solutions):\n",
    "\n",
    "    \"\"\"\n",
    "    Get MAEs for a list of specified problems, ground truth solutions, and solution obtained\n",
    "    by a list of solvers\n",
    "    \"\"\"\n",
    "    from sklearn.metrics import mean_absolute_error\n",
    "\n",
    "    maes = {}\n",
    "\n",
    "    for solver_name in solver_names:\n",
    "        solver_opts = [v[f'{solver_name}'] for v in solver_solutions.values()]\n",
    "        true_opts = [bcp[f'{problem}']['yopt'] for problem in problems]\n",
    "        mae = mean_absolute_error(solver_opts, true_opts)\n",
    "        maes[f'{solver_name}'] = mae\n",
    "\n",
    "    return maes"
   ]
  },
  {
   "attachments": {},
   "cell_type": "markdown",
   "metadata": {},
   "source": [
    "# Refinement Ability (Objective 3)"
   ]
  },
  {
   "attachments": {},
   "cell_type": "markdown",
   "metadata": {},
   "source": [
    "Note: I am working on a separate notebook here so that it is clearer since the previous notebook is already pretty crowded. The function get_all_initial_guesses produces perturbed initial guesses for all specified input problems (names). Note that code already loops through solvers/problems, it's just a matter of adding all solvers to 'solvers' and all benchmarks to 'problems'. I am not adding all problems since many of them give catastrophic solutions. "
   ]
  },
  {
   "cell_type": "code",
   "execution_count": 4,
   "metadata": {},
   "outputs": [
    {
     "name": "stdout",
     "output_type": "stream",
     "text": [
      "There are 263 valid problems and 2 invalid problems\n"
     ]
    }
   ],
   "source": [
    "names = list(bcp.keys())\n",
    "all_initial_guesses = get_all_initial_guesses(names)"
   ]
  },
  {
   "cell_type": "code",
   "execution_count": 5,
   "metadata": {},
   "outputs": [
    {
     "name": "stderr",
     "output_type": "stream",
     "text": [
      "                                                                                                                            \r"
     ]
    },
    {
     "name": "stdout",
     "output_type": "stream",
     "text": [
      "\n",
      "Results: 'objective_fxn'  \n",
      "   Best score: -0.00045913682277321253  \n",
      "   Best parameter:\n",
      "      '0' : 5.015151515151516  \n",
      "      '1' : 5.015151515151516  \n",
      " \n",
      "   Random seed: 1404932931  \n",
      " \n",
      "   Evaluation time   : 0.1193699836730957 sec    [77.71 %]\n",
      "   Optimization time : 0.03423762321472168 sec    [22.29 %]\n",
      "   Iteration time    : 0.15360760688781738 sec    [16275.24 iter/sec]\n",
      " \n"
     ]
    },
    {
     "name": "stderr",
     "output_type": "stream",
     "text": [
      "                                                                                                                          \r"
     ]
    },
    {
     "name": "stdout",
     "output_type": "stream",
     "text": [
      "\n",
      "Results: 'objective_fxn'  \n",
      "   Best score: -5.1015202530356945e-05  \n",
      "   Best parameter:\n",
      "      '0' : 4.994949494949495  \n",
      "      '1' : 4.994949494949495  \n",
      " \n",
      "   Random seed: 280356761  \n",
      " \n",
      "   Evaluation time   : 0.053124427795410156 sec    [32.33 %]\n",
      "   Optimization time : 0.11119604110717773 sec    [67.67 %]\n",
      "   Iteration time    : 0.1643204689025879 sec    [15214.17 iter/sec]\n",
      " \n"
     ]
    },
    {
     "name": "stderr",
     "output_type": "stream",
     "text": [
      "                                                                                                                        \r"
     ]
    },
    {
     "name": "stdout",
     "output_type": "stream",
     "text": [
      "\n",
      "Results: 'objective_fxn'  \n",
      "   Best score: -5.1015202530356945e-05  \n",
      "   Best parameter:\n",
      "      '0' : 4.994949494949495  \n",
      "      '1' : 4.994949494949495  \n",
      " \n",
      "   Random seed: 471526541  \n",
      " \n",
      "   Evaluation time   : 0.039710044860839844 sec    [20.42 %]\n",
      "   Optimization time : 0.15474796295166016 sec    [79.58 %]\n",
      "   Iteration time    : 0.1944580078125 sec    [12856.25 iter/sec]\n",
      " \n"
     ]
    },
    {
     "name": "stderr",
     "output_type": "stream",
     "text": [
      "                                                                                                                         \r"
     ]
    },
    {
     "name": "stdout",
     "output_type": "stream",
     "text": [
      "\n",
      "Results: 'objective_fxn'  \n",
      "   Best score: -5.1015202530356945e-05  \n",
      "   Best parameter:\n",
      "      '0' : 4.994949494949495  \n",
      "      '1' : 5.005050505050505  \n",
      " \n",
      "   Random seed: 1452816658  \n",
      " \n",
      "   Evaluation time   : 0.03579235076904297 sec    [9.11 %]\n",
      "   Optimization time : 0.35728025436401367 sec    [90.89 %]\n",
      "   Iteration time    : 0.39307260513305664 sec    [6360.15 iter/sec]\n",
      " \n"
     ]
    },
    {
     "name": "stderr",
     "output_type": "stream",
     "text": [
      "                                                                                                                          \r"
     ]
    },
    {
     "name": "stdout",
     "output_type": "stream",
     "text": [
      "\n",
      "Results: 'objective_fxn'  \n",
      "   Best score: -5.1015202530356945e-05  \n",
      "   Best parameter:\n",
      "      '0' : 4.994949494949495  \n",
      "      '1' : 4.994949494949495  \n",
      " \n",
      "   Random seed: 379151011  \n",
      " \n",
      "   Evaluation time   : 0.04962873458862305 sec    [19.1 %]\n",
      "   Optimization time : 0.21021246910095215 sec    [80.9 %]\n",
      "   Iteration time    : 0.2598412036895752 sec    [9621.26 iter/sec]\n",
      " \n"
     ]
    },
    {
     "name": "stderr",
     "output_type": "stream",
     "text": [
      "                                                                                                                          \r"
     ]
    },
    {
     "name": "stdout",
     "output_type": "stream",
     "text": [
      "\n",
      "Results: 'objective_fxn'  \n",
      "   Best score: -5.1015202530356945e-05  \n",
      "   Best parameter:\n",
      "      '0' : 4.994949494949495  \n",
      "      '1' : 5.005050505050505  \n",
      " \n",
      "   Random seed: 968266404  \n",
      " \n",
      "   Evaluation time   : 0.12584567070007324 sec    [52.75 %]\n",
      "   Optimization time : 0.11273598670959473 sec    [47.25 %]\n",
      "   Iteration time    : 0.23858165740966797 sec    [10478.59 iter/sec]\n",
      " \n"
     ]
    },
    {
     "name": "stderr",
     "output_type": "stream",
     "text": [
      "                                                                                                                      \r"
     ]
    },
    {
     "name": "stdout",
     "output_type": "stream",
     "text": [
      "\n",
      "Results: 'objective_fxn'  \n",
      "   Best score: 0.3523230661938065  \n",
      "   Best parameter:\n",
      "      '0' : -1.0477377848724345  \n",
      "      '1' : -0.011111111111111072  \n",
      " \n",
      "   Random seed: 1430468992  \n",
      " \n",
      "   Evaluation time   : 0.08216524124145508 sec    [70.82 %]\n",
      "   Optimization time : 0.03385186195373535 sec    [29.18 %]\n",
      "   Iteration time    : 0.11601710319519043 sec    [21548.55 iter/sec]\n",
      " \n"
     ]
    },
    {
     "name": "stderr",
     "output_type": "stream",
     "text": [
      "                                                                                                                       \r"
     ]
    },
    {
     "name": "stdout",
     "output_type": "stream",
     "text": [
      "\n",
      "Results: 'objective_fxn'  \n",
      "   Best score: 0.35232306866772606  \n",
      "   Best parameter:\n",
      "      '0' : -1.0456232787475657  \n",
      "      '1' : 0.011111111111111072  \n",
      " \n",
      "   Random seed: 1934527417  \n",
      " \n",
      "   Evaluation time   : 0.05012059211730957 sec    [28.95 %]\n",
      "   Optimization time : 0.12299299240112305 sec    [71.05 %]\n",
      "   Iteration time    : 0.17311358451843262 sec    [14441.39 iter/sec]\n",
      " \n"
     ]
    },
    {
     "name": "stderr",
     "output_type": "stream",
     "text": [
      "                                                                                                                       \r"
     ]
    },
    {
     "name": "stdout",
     "output_type": "stream",
     "text": [
      "\n",
      "Results: 'objective_fxn'  \n",
      "   Best score: 0.35232306866772606  \n",
      "   Best parameter:\n",
      "      '0' : -1.0456232787475657  \n",
      "      '1' : -0.011111111111111072  \n",
      " \n",
      "   Random seed: 1867877941  \n",
      " \n",
      "   Evaluation time   : 0.043999433517456055 sec    [24.55 %]\n",
      "   Optimization time : 0.1352379322052002 sec    [75.45 %]\n",
      "   Iteration time    : 0.17923736572265625 sec    [13947.98 iter/sec]\n",
      " \n"
     ]
    },
    {
     "name": "stderr",
     "output_type": "stream",
     "text": [
      "                                                                                                                     \r"
     ]
    },
    {
     "name": "stdout",
     "output_type": "stream",
     "text": [
      "\n",
      "Results: 'objective_fxn'  \n",
      "   Best score: 0.35232306866772606  \n",
      "   Best parameter:\n",
      "      '0' : -1.0456232787475657  \n",
      "      '1' : -0.011111111111111072  \n",
      " \n",
      "   Random seed: 1050330310  \n",
      " \n",
      "   Evaluation time   : 0.03613996505737305 sec    [8.99 %]\n",
      "   Optimization time : 0.3659987449645996 sec    [91.01 %]\n",
      "   Iteration time    : 0.40213871002197266 sec    [6216.76 iter/sec]\n",
      " \n"
     ]
    },
    {
     "name": "stderr",
     "output_type": "stream",
     "text": [
      "                                                                                                                        \r"
     ]
    },
    {
     "name": "stdout",
     "output_type": "stream",
     "text": [
      "\n",
      "Results: 'objective_fxn'  \n",
      "   Best score: 0.35232306866772606  \n",
      "   Best parameter:\n",
      "      '0' : -1.0456232787475657  \n",
      "      '1' : 0.011111111111111072  \n",
      " \n",
      "   Random seed: 1318704067  \n",
      " \n",
      "   Evaluation time   : 0.04355573654174805 sec    [17.28 %]\n",
      "   Optimization time : 0.20844078063964844 sec    [82.72 %]\n",
      "   Iteration time    : 0.2519965171813965 sec    [9920.77 iter/sec]\n",
      " \n"
     ]
    },
    {
     "name": "stderr",
     "output_type": "stream",
     "text": [
      "                                                                                                                      \r"
     ]
    },
    {
     "name": "stdout",
     "output_type": "stream",
     "text": [
      "\n",
      "Results: 'objective_fxn'  \n",
      "   Best score: 0.35232306866772606  \n",
      "   Best parameter:\n",
      "      '0' : -1.0456232787475657  \n",
      "      '1' : -0.011111111111111072  \n",
      " \n",
      "   Random seed: 1596929216  \n",
      " \n",
      "   Evaluation time   : 0.08561825752258301 sec    [43.61 %]\n",
      "   Optimization time : 0.11069083213806152 sec    [56.39 %]\n",
      "   Iteration time    : 0.19630908966064453 sec    [12735.02 iter/sec]\n",
      " \n"
     ]
    }
   ],
   "source": [
    "from gradient_free_optimizers import RandomSearchOptimizer,RandomRestartHillClimbingOptimizer,RandomAnnealingOptimizer,PatternSearch,PowellsMethod,GridSearchOptimizer\n",
    "\n",
    "#problems = names[:5]\n",
    "problems = ['BeckerLago', 'AluffiPentini']\n",
    "solvers = [RandomSearchOptimizer,RandomRestartHillClimbingOptimizer,RandomAnnealingOptimizer,PatternSearch,PowellsMethod,GridSearchOptimizer]\n",
    "solver_names = get_solver_names(solvers)\n",
    "solver_solutions = get_solutions(problems, solvers, all_initial_guesses)\n",
    "maes = get_maes(problems, solver_names, solver_solutions)"
   ]
  },
  {
   "cell_type": "code",
   "execution_count": 6,
   "metadata": {},
   "outputs": [
    {
     "data": {
      "image/png": "[encoded data removed]",
      "text/plain": [
       "<Figure size 640x480 with 1 Axes>"
      ]
     },
     "metadata": {},
     "output_type": "display_data"
    }
   ],
   "source": [
    "import matplotlib.pyplot as plt\n",
    "import colorsys\n",
    "\n",
    "num_colors = len(solvers)\n",
    "hue_values = [i / num_colors for i in range(num_colors)]\n",
    "\n",
    "selected_colors = [colorsys.hsv_to_rgb(hue, 1.0, 1.0) + (1.0,) for hue in hue_values]\n",
    "bars = plt.bar(range(len(maes)), list(maes.values()), color=selected_colors)\n",
    "handles = [bar for bar in bars]\n",
    "plt.legend(handles, maes.keys(), loc='center left', bbox_to_anchor=(1.0, 0.5))\n",
    "plt.ylabel(\"MAE\")\n",
    "plt.title(f\"Refinement Ability for {problems}\")\n",
    "plt.show()\n"
   ]
  }
 ],
 "metadata": {
  "kernelspec": {
   "display_name": "base",
   "language": "python",
   "name": "python3"
  },
  "language_info": {
   "codemirror_mode": {
    "name": "ipython",
    "version": 3
   },
   "file_extension": ".py",
   "mimetype": "text/x-python",
   "name": "python",
   "nbconvert_exporter": "python",
   "pygments_lexer": "ipython3",
   "version": "3.9.13"
  },
  "orig_nbformat": 4,
  "vscode": {
   "interpreter": {
    "hash": "9bc68b10135914b32656fcc41af97ef1b1b393a38252aab1db8935475d18b332"
   }
  }
 },
 "nbformat": 4,
 "nbformat_minor": 2
}
